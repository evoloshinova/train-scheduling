{
 "cells": [
  {
   "cell_type": "markdown",
   "metadata": {},
   "source": [
    "# Description"
   ]
  },
  {
   "cell_type": "markdown",
   "metadata": {},
   "source": [
    "Use incremental solving to compute the optimal solution and store agent-location-table in the original_plan.lp file"
   ]
  },
  {
   "cell_type": "code",
   "execution_count": 1,
   "metadata": {},
   "outputs": [
    {
     "name": "stdout",
     "output_type": "stream",
     "text": [
      "inc-example version 1.0\n",
      "Reading from encoding_orig.lp ...\n",
      "Solving...\n",
      "Solving...\n",
      "Solving...\n",
      "Solving...\n",
      "Solving...\n",
      "Solving...\n",
      "Solving...\n",
      "Solving...\n",
      "Solving...\n",
      "Solving...\n",
      "Solving...\n",
      "Solving...\n",
      "Solving...\n",
      "Solving...\n",
      "Solving...\n",
      "Solving...\n",
      "Solving...\n",
      "Solving...\n",
      "Solving...\n",
      "Solving...\n",
      "Solving...\n",
      "Solving...\n",
      "Solving...\n",
      "Solving...\n",
      "Solving...\n",
      "Solving...\n",
      "Solving...\n",
      "Solving...\n",
      "Solving...\n",
      "Solving...\n",
      "Solving...\n",
      "Solving...\n",
      "Solving...\n",
      "Solving...\n",
      "Solving...\n",
      "Solving...\n",
      "Solving...\n",
      "Answer: 1\n",
      "orig(agent(0),(25,5),0,(25,5)) orig(agent(1),(25,6),0,(25,6)) orig(agent(1),(25,6),1,(25,6)) orig(agent(0),(25,5),1,(25,5)) orig(agent(0),(25,5),2,(25,4)) orig(agent(1),(25,6),2,(25,6)) orig(agent(1),(25,6),3,(25,5)) orig(agent(0),(25,4),3,(25,3)) orig(agent(0),(25,3),4,(25,2)) orig(agent(1),(25,5),4,(25,4)) orig(agent(1),(25,4),5,(25,3)) orig(agent(0),(25,2),5,(25,1)) orig(agent(0),(25,1),6,(24,1)) orig(agent(1),(25,3),6,(25,2)) orig(agent(1),(25,2),7,(25,1)) orig(agent(0),(24,1),7,(23,1)) orig(agent(0),(23,1),8,(22,1)) orig(agent(1),(25,1),8,(24,1)) orig(agent(1),(24,1),9,(23,1)) orig(agent(0),(22,1),9,(21,1)) orig(agent(0),(21,1),10,(20,1)) orig(agent(1),(23,1),10,(22,1)) orig(agent(1),(22,1),11,(21,1)) orig(agent(0),(20,1),11,(20,0)) orig(agent(0),(20,0),12,(19,0)) orig(agent(1),(21,1),12,(20,1)) orig(agent(1),(20,1),13,(20,0)) orig(agent(0),(19,0),13,(18,0)) orig(agent(0),(18,0),14,(17,0)) orig(agent(1),(20,0),14,(19,0)) orig(agent(1),(19,0),15,(18,0)) orig(agent(0),(17,0),15,(16,0)) orig(agent(0),(16,0),16,(15,0)) orig(agent(1),(18,0),16,(17,0)) orig(agent(1),(17,0),17,(16,0)) orig(agent(0),(15,0),17,(14,0)) orig(agent(1),(16,0),18,(15,0)) orig(agent(0),(14,0),18,(13,0)) orig(agent(0),(13,0),19,(12,0)) orig(agent(1),(15,0),19,(14,0)) orig(agent(1),(14,0),20,(13,0)) orig(agent(0),(12,0),20,(11,0)) orig(agent(0),(11,0),21,(10,0)) orig(agent(1),(13,0),21,(12,0)) orig(agent(1),(12,0),22,(11,0)) orig(agent(0),(10,0),22,(9,0)) orig(agent(0),(9,0),23,(8,0)) orig(agent(1),(11,0),23,(10,0)) orig(agent(1),(10,0),24,(9,0)) orig(agent(0),(8,0),24,(7,0)) orig(agent(0),(7,0),25,(6,0)) orig(agent(1),(9,0),25,(8,0)) orig(agent(1),(8,0),26,(7,0)) orig(agent(0),(6,0),26,(5,0)) orig(agent(0),(5,0),27,(5,1)) orig(agent(1),(7,0),27,(6,0)) orig(agent(1),(6,0),28,(5,0)) orig(agent(0),(5,1),28,(5,2)) orig(agent(1),(5,0),29,(5,1)) orig(agent(0),(5,2),29,(5,3)) orig(agent(1),(5,1),30,(5,2)) orig(agent(0),(5,3),30,(6,3)) orig(agent(0),(6,3),31,(6,4)) orig(agent(1),(5,2),31,(5,3)) orig(agent(0),(6,4),32,(6,4)) orig(agent(1),(5,3),32,(5,4)) orig(agent(0),(6,4),33,(6,4)) orig(agent(1),(5,4),33,(5,5)) orig(agent(0),(6,4),34,(6,4)) orig(agent(1),(5,5),34,(5,6)) orig(agent(1),(5,6),35,(6,6)) orig(agent(0),(6,4),35,(6,5))\n",
      "Writing the optimal model to file...\n",
      "SATISFIABLE\n",
      "\n",
      "Models       : 1+\n",
      "Calls        : 37\n",
      "Time         : 1.407s (Solving: 0.04s 1st Model: 0.01s Unsat: 0.01s)\n",
      "CPU Time     : 0.500s\n"
     ]
    }
   ],
   "source": [
    "!python inc_orig.py encoding_orig.lp instances/env_17_multi_agent.lp --imax 100"
   ]
  },
  {
   "cell_type": "markdown",
   "metadata": {},
   "source": [
    "Compute conflict locations for agents (Locations which are passed by more than one agent)"
   ]
  },
  {
   "cell_type": "code",
   "execution_count": 2,
   "metadata": {},
   "outputs": [
    {
     "name": "stdout",
     "output_type": "stream",
     "text": [
      "Conflict locations written to conflict_locations.lp\n"
     ]
    }
   ],
   "source": [
    "!python conflict_locations.py"
   ]
  },
  {
   "cell_type": "markdown",
   "metadata": {},
   "source": [
    "Do iterative solving with malfunctions"
   ]
  },
  {
   "cell_type": "code",
   "execution_count": 2,
   "metadata": {},
   "outputs": [
    {
     "name": "stderr",
     "output_type": "stream",
     "text": [
      "encoding_delay.lp:77:23-24: error: syntax error, unexpected (, expecting )\n",
      "\n",
      "Traceback (most recent call last):\n",
      "  File \"C:\\Users\\Admin\\AppData\\Roaming\\Python\\Python39\\site-packages\\clingo\\application.py\", line 362, in _pyclingo_application_main\n",
      "    app.main(Control(control), [_to_str(files[i]) for i in range(size)])\n",
      "  File \"c:\\Users\\Admin\\Documents\\train-scheduling\\inc_delay.py\", line 175, in main\n",
      "    ctl.load(file_)\n",
      "  File \"C:\\Users\\Admin\\AppData\\Roaming\\Python\\Python39\\site-packages\\clingo\\control.py\", line 503, in load\n",
      "    _handle_error(_lib.clingo_control_load(self._rep, path.encode()))\n",
      "  File \"C:\\Users\\Admin\\AppData\\Roaming\\Python\\Python39\\site-packages\\clingo\\_internal.py\", line 75, in _handle_error\n",
      "    raise RuntimeError(msg)\n",
      "RuntimeError: parsing failed\n",
      "*** ERROR: (inc-example): parsing failed\n"
     ]
    },
    {
     "name": "stdout",
     "output_type": "stream",
     "text": [
      "inc-example version 1.0\n",
      "Reading from encoding_delay.lp ...\n",
      "UNKNOWN\n",
      "\n",
      "Models       : 0+\n",
      "Calls        : 1\n",
      "Time         : 0.026s (Solving: 0.00s 1st Model: 0.00s Unsat: 0.00s)\n",
      "CPU Time     : 0.000s\n"
     ]
    }
   ],
   "source": [
    "!python inc_delay.py encoding_delay.lp instances/env_17_multi_agent.lp --imax 100 --delay_rate 0.2 --min_duration 2 --max_duration 5"
   ]
  },
  {
   "cell_type": "code",
   "execution_count": null,
   "metadata": {},
   "outputs": [],
   "source": []
  }
 ],
 "metadata": {
  "kernelspec": {
   "display_name": "base",
   "language": "python",
   "name": "python3"
  },
  "language_info": {
   "codemirror_mode": {
    "name": "ipython",
    "version": 3
   },
   "file_extension": ".py",
   "mimetype": "text/x-python",
   "name": "python",
   "nbconvert_exporter": "python",
   "pygments_lexer": "ipython3",
   "version": "3.9.12"
  }
 },
 "nbformat": 4,
 "nbformat_minor": 2
}
