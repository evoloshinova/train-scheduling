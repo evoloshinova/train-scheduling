{
 "cells": [
  {
   "cell_type": "code",
   "execution_count": 20,
   "id": "f938e49d",
   "metadata": {},
   "outputs": [
    {
     "name": "stdout",
     "output_type": "stream",
     "text": [
      "clingo version 5.6.2\n",
      "Reading from assignment1/instances/env1.lp ...\n",
      "Solving...\n",
      "UNSATISFIABLE\n",
      "\n",
      "Models       : 0\n",
      "Calls        : 1\n",
      "Time         : 0.009s (Solving: 0.00s 1st Model: 0.00s Unsat: 0.00s)\n",
      "CPU Time     : 0.005s\n"
     ]
    }
   ],
   "source": [
    "%%clingo 0 assignment1/instances/env1.lp -\n",
    "\n",
    "%encode tracks.\n",
    "\n",
    "dire\n",
    "\n",
    "agent(A) :- start(agent(A), _, _).\n",
    "action_type(move_forward). action_type(move_left). action_type(move_right). action_type(wait).\n",
    "{action(agent(A), Action, Timestamp)} :- start(agent(A),(X,Y),dir(D)), action_type(Action), time(Timestamp).\n",
    "action(agent(A), wait, 0) :- agent(A).\n",
    ":- time(T), start(agent(A),(X,Y),dir(D)), not {action(agent(A), _, T)} 1.\n",
    ":- action(agent(A), Action, T), not action(agent(A), Action, T - 1).\n",
    "current_state(agent(A), (X, Y), 0) :- start(agent(A),(X,Y),dir(D)).\n",
    "current_state(agent(A), (X, Y), T + 1) :- current_state(agent(A), (X, Y), T), action(agent(A), wait, T).\n",
    "current_state(agent(A), (X + 1, Y), T + 1) :- current_state(agent(A), (X, Y), T), action(agent(A), move_forward, T),\n",
    "              cell((X, Y), 1025).\n",
    ":- action(agent(A), move_left, T), current_state(agent(A), (X, Y), T), cell((X, Y), 1025).\n",
    ":- action(agent(A), move_right, T), current_state(agent(A), (X, Y), T), cell((X, Y), 1025).\n",
    ":- end(agent(A), (X, Y)), not current_state(agent(A), (X, Y), _).\n",
    "              \n",
    "#show action/3."
   ]
  }
 ],
 "metadata": {
  "kernelspec": {
   "display_name": "Python 3 (ipykernel)",
   "language": "python",
   "name": "python3"
  },
  "language_info": {
   "codemirror_mode": {
    "name": "ipython",
    "version": 3
   },
   "file_extension": ".py",
   "mimetype": "text/x-python",
   "name": "python",
   "nbconvert_exporter": "python",
   "pygments_lexer": "ipython3",
   "version": "3.8.18"
  }
 },
 "nbformat": 4,
 "nbformat_minor": 5
}
