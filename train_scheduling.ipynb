{
 "cells": [
  {
   "cell_type": "code",
   "execution_count": 60,
   "id": "f938e49d",
   "metadata": {},
   "outputs": [
    {
     "name": "stdout",
     "output_type": "stream",
     "text": [
      "clingo version 5.6.2\n",
      "Reading from instances/env1.lp ...\n",
      "Solving...\n",
      "UNSATISFIABLE\n",
      "\n",
      "Models       : 0\n",
      "Calls        : 1\n",
      "Time         : 0.012s (Solving: 0.00s 1st Model: 0.00s Unsat: 0.00s)\n",
      "CPU Time     : 0.008s\n"
     ]
    }
   ],
   "source": [
    "%%clingo 0 instances/env1.lp -\n",
    "#const n=10.\n",
    "time(0..n).\n",
    "%encode tracks.\n",
    "track(1025, (1, 3)).\n",
    "\n",
    "track(N, (X, Y)) :- track(N, (Y, X)).\n",
    "\n",
    "moveDir(0, (0, 1)). %go north \n",
    "moveDir(1, (1, 0)). %go east\n",
    "moveDir(2, (0, -1)). %go south\n",
    "moveDir(3, (-1, 0)). %go west\n",
    "\n",
    "revDir(0, 2). revDir(2, 0). revDir(1, 3). revDir(3, 1).\n",
    "\n",
    "dir2int(n, 0).\n",
    "dir2int(e, 1).\n",
    "dir2int(s, 2).\n",
    "dir2int(w, 3).\n",
    "\n",
    "agent(A) :- start(agent(A), _, _).\n",
    "action_type(move_forward). action_type(wait). %todo: add moving left and moving right.\n",
    "    \n",
    "{action(agent(A), Action, Timestamp)} :- start(agent(A),(X,Y),dir(D)), action_type(Action), time(Timestamp).\n",
    "action(agent(A), wait, 0) :- agent(A).\n",
    "action(agent(A), move_forward, 1) :- agent(A).\n",
    "\n",
    "%one action for each agent and each timestamp\n",
    ":- time(T), agent(A), not 1 {action(agent(A), _, T)} 1.\n",
    "\n",
    "current_state:     \n",
    "current_state(agent(A), (X, Y), 0, Dir) :- start(agent(A),(X,Y),dir(D)), dir2int(D, Dir).    \n",
    "current_state(agent(A), (X +  DX, Y + DY), T + 1, DirOut2) :- \n",
    "    current_state(agent(A), (X, Y), T, DirOut),\n",
    "    action(agent(A), move_forward, T + 1),\n",
    "    cell((X, Y,), Type),\n",
    "    cell((X + DX, Y + DX), Type2),\n",
    "    track(Type, (_, DirOut)),\n",
    "    track(Type2, (DirIn,DirOut2)),\n",
    "    revDir(DirIn, DirOut),\n",
    "    moveDir(DirOut, (DX, DY)).\n",
    "\n",
    "current_state(agent(A), (X, Y), T + 1, Dir) :- current_state(agent(A), (X, Y), T, Dir), action(agent(A), wait, T + 1).   \n",
    ":- end(agent(A), (X, Y)), not current_state(agent(A), (X, Y), _, _).\n",
    "\n",
    "\n",
    "#show action/3.\n",
    "%#show current_state/4."
   ]
  }
 ],
 "metadata": {
  "kernelspec": {
   "display_name": "Python 3 (ipykernel)",
   "language": "python",
   "name": "python3"
  },
  "language_info": {
   "codemirror_mode": {
    "name": "ipython",
    "version": 3
   },
   "file_extension": ".py",
   "mimetype": "text/x-python",
   "name": "python",
   "nbconvert_exporter": "python",
   "pygments_lexer": "ipython3",
   "version": "3.11.5"
  }
 },
 "nbformat": 4,
 "nbformat_minor": 5
}
